l{
 "cells": [
  {
   "cell_type": "code",
   "execution_count": 1,
   "metadata": {},
   "outputs": [],
   "source": [
    "import torch\n",
    "from train_MaskPSN_secf10 import CIFAR10Net as CIFAR10Net\n",
    "from train_MaskPSN_secf10 import MaskedPSN as MaskedPSN"
   ]
  },
  {
   "cell_type": "code",
   "execution_count": 2,
   "metadata": {},
   "outputs": [],
   "source": [
    "model = CIFAR10Net(128, 32, 10)"
   ]
  },
  {
   "cell_type": "code",
   "execution_count": 38,
   "metadata": {},
   "outputs": [],
   "source": [
    "state_dict = torch.load('logs/pt/secf10_T_32P_32MaskedPSN_l1loss_0.07_e256_b128_sgd_lr0.1_c128_amp/checkpoint_max.pth')"
   ]
  },
  {
   "cell_type": "code",
   "execution_count": 39,
   "metadata": {},
   "outputs": [
    {
     "data": {
      "text/plain": [
       "<All keys matched successfully>"
      ]
     },
     "execution_count": 39,
     "metadata": {},
     "output_type": "execute_result"
    }
   ],
   "source": [
    "model.load_state_dict(state_dict['net'])"
   ]
  },
  {
   "cell_type": "code",
   "execution_count": 40,
   "metadata": {},
   "outputs": [
    {
     "name": "stdout",
     "output_type": "stream",
     "text": [
      "tensor(0.1089, grad_fn=<AddBackward0>)\n"
     ]
    }
   ],
   "source": [
    "res = 0\n",
    "for m in model.modules():\n",
    "    if isinstance(m, MaskedPSN):\n",
    "        res += (m.fc.weight * m.fc.mask1).abs().sum()\n",
    "print(res)"
   ]
  },
  {
   "cell_type": "code",
   "execution_count": 53,
   "metadata": {},
   "outputs": [
    {
     "name": "stdout",
     "output_type": "stream",
     "text": [
      "Parameter containing:\n",
      "tensor([[ 1.1553e-01, -2.4450e-09, -2.2115e-08,  ..., -2.7655e-08,\n",
      "          2.2319e-08, -7.9534e-08],\n",
      "        [-1.2399e+00,  1.0327e+00,  5.4547e-08,  ...,  7.6825e-08,\n",
      "         -1.0916e-08,  2.3660e-07],\n",
      "        [ 1.2554e+00, -1.7776e-01, -1.6757e+00,  ...,  1.7063e-07,\n",
      "          1.4869e-07,  1.4581e-07],\n",
      "        ...,\n",
      "        [-7.8538e-03,  1.3630e-02,  1.2739e-02,  ..., -2.9544e-01,\n",
      "         -1.5292e-08,  5.7716e-10],\n",
      "        [ 1.9201e-02,  5.8013e-02,  8.3929e-02,  ...,  1.3790e-01,\n",
      "          5.7412e-01,  1.2635e-09],\n",
      "        [-8.5637e-02,  6.8531e-03, -1.2193e-02,  ...,  8.0310e-01,\n",
      "          1.2571e+00,  1.5546e+00]], requires_grad=True)\n"
     ]
    }
   ],
   "source": [
    "model.train()\n",
    "for m in model.modules():\n",
    "    if isinstance(m, MaskedPSN):\n",
    "        print(m.fc.masked_weight())\n",
    "        break"
   ]
  },
  {
   "cell_type": "code",
   "execution_count": 52,
   "metadata": {},
   "outputs": [
    {
     "name": "stdout",
     "output_type": "stream",
     "text": [
      "tensor([[ 0.1155, -0.0000, -0.0000,  ..., -0.0000,  0.0000, -0.0000],\n",
      "        [-1.2399,  1.0327,  0.0000,  ...,  0.0000, -0.0000,  0.0000],\n",
      "        [ 1.2554, -0.1778, -1.6757,  ...,  0.0000,  0.0000,  0.0000],\n",
      "        ...,\n",
      "        [-0.0079,  0.0136,  0.0127,  ..., -0.2954, -0.0000,  0.0000],\n",
      "        [ 0.0192,  0.0580,  0.0839,  ...,  0.1379,  0.5741,  0.0000],\n",
      "        [-0.0856,  0.0069, -0.0122,  ...,  0.8031,  1.2571,  1.5546]],\n",
      "       grad_fn=<MulBackward0>)\n"
     ]
    }
   ],
   "source": [
    "model.eval()\n",
    "for m in model.modules():\n",
    "    if isinstance(m, MaskedPSN):\n",
    "        print(m.fc.masked_weight())\n",
    "        break"
   ]
  },
  {
   "cell_type": "code",
   "execution_count": null,
   "metadata": {},
   "outputs": [],
   "source": []
  }
 ],
 "metadata": {
  "kernelspec": {
   "display_name": "triton",
   "language": "python",
   "name": "python3"
  },
  "language_info": {
   "codemirror_mode": {
    "name": "ipython",
    "version": 3
   },
   "file_extension": ".py",
   "mimetype": "text/x-python",
   "name": "python",
   "nbconvert_exporter": "python",
   "pygments_lexer": "ipython3",
   "version": "3.10.13"
  }
 },
 "nbformat": 4,
 "nbformat_minor": 2
}
