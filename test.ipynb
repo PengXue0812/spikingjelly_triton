{
 "cells": [
  {
   "cell_type": "code",
   "execution_count": 1,
   "metadata": {},
   "outputs": [],
   "source": [
    "import torch\n",
    "import numpy as np\n",
    "import torch.nn as nn\n",
    "import math\n",
    "import torch.nn.functional as F"
   ]
  },
  {
   "cell_type": "code",
   "execution_count": 2,
   "metadata": {},
   "outputs": [
    {
     "data": {
      "text/plain": [
       "tensor([[ 0.6426,  0.5754, -0.1101,  ..., -0.5168, -0.4331,  0.4116],\n",
       "        [-0.6057, -0.6155,  0.0635,  ..., -0.7178, -0.3572, -0.1635],\n",
       "        [ 0.4983,  0.7134, -0.6596,  ...,  0.5736,  0.3627, -0.1527],\n",
       "        ...,\n",
       "        [ 0.7213, -0.3398,  0.7077,  ..., -0.6762, -0.3745, -0.5675],\n",
       "        [ 0.0436,  0.3622, -0.7145,  ...,  0.3773, -0.3775,  0.6062],\n",
       "        [ 0.5404,  0.1811, -0.3322,  ..., -0.0012, -0.3245,  0.2044]])"
      ]
     },
     "execution_count": 2,
     "metadata": {},
     "output_type": "execute_result"
    }
   ],
   "source": [
    "gain = nn.init.calculate_gain('relu')\n",
    "std = gain * math.sqrt(3.0 / 32)\n",
    "bound = math.sqrt(3.0) * std\n",
    "weight = torch.zeros([32, 32])\n",
    "nn.init.uniform_(weight, -bound, bound)"
   ]
  },
  {
   "cell_type": "code",
   "execution_count": 20,
   "metadata": {},
   "outputs": [],
   "source": [
    "gain = nn.init.calculate_gain('selu')"
   ]
  },
  {
   "cell_type": "code",
   "execution_count": 14,
   "metadata": {},
   "outputs": [
    {
     "data": {
      "text/plain": [
       "1.4142135623730951"
      ]
     },
     "execution_count": 14,
     "metadata": {},
     "output_type": "execute_result"
    }
   ],
   "source": [
    "gain"
   ]
  },
  {
   "cell_type": "code",
   "execution_count": 21,
   "metadata": {},
   "outputs": [
    {
     "data": {
      "text/plain": [
       "0.75"
      ]
     },
     "execution_count": 21,
     "metadata": {},
     "output_type": "execute_result"
    }
   ],
   "source": [
    "gain"
   ]
  },
  {
   "cell_type": "code",
   "execution_count": null,
   "metadata": {},
   "outputs": [],
   "source": []
  }
 ],
 "metadata": {
  "kernelspec": {
   "display_name": "triton",
   "language": "python",
   "name": "python3"
  },
  "language_info": {
   "codemirror_mode": {
    "name": "ipython",
    "version": 3
   },
   "file_extension": ".py",
   "mimetype": "text/x-python",
   "name": "python",
   "nbconvert_exporter": "python",
   "pygments_lexer": "ipython3",
   "version": "3.10.13"
  }
 },
 "nbformat": 4,
 "nbformat_minor": 2
}
